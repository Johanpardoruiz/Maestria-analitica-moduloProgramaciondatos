{
 "cells": [
  {
   "cell_type": "markdown",
   "id": "c785f031-2ced-43db-b9f7-e3fa2619b01c",
   "metadata": {},
   "source": [
    "# **Taller número 1:**\n",
    "\n",
    "- Johan Sebastian Pardo Ruiz"
   ]
  },
  {
   "cell_type": "markdown",
   "id": "d1ac9c6d-727e-4ab8-ac71-7db2990ed829",
   "metadata": {},
   "source": [
    "### Punto 1:\n",
    "\n",
    "- Los pasajeros ingresan al avión en el orden de su número de asiento (1, 2, 3 … 100).\n",
    "- El primer pasajero, en lugar de sentarse en su asiento asignado, elige uno al azar entre los\n",
    "100 asientos disponibles.\n",
    "- Los demás pasajeros, al abordar, intentan sentarse en su asiento asignado. Sin embargo, si\n",
    "encuentran que su asiento está ocupado, deben elegir otro asiento aleatoriamente entre los\n",
    "que aún están disponibles.\n",
    "\n",
    "\n",
    "#### Pregunta:\n",
    "¿Cuál es la probabilidad de que el pasajero número 100 logre sentarse en su asiento originalmente\n",
    "asignado (el asiento número 100)?\n"
   ]
  },
  {
   "cell_type": "markdown",
   "id": "f914e25d-cfae-4a9f-99fc-350122baf593",
   "metadata": {},
   "source": [
    "#### **Solución**"
   ]
  },
  {
   "cell_type": "code",
   "execution_count": 1,
   "id": "13bc91bb-ed89-4afa-ae86-383dbd5bed29",
   "metadata": {},
   "outputs": [
    {
     "name": "stdout",
     "output_type": "stream",
     "text": [
      "Probabilidad de que el pasajero 100 se siente en su asiento: 0.4992\n"
     ]
    }
   ],
   "source": [
    "import random\n",
    "\n",
    "n = 100000\n",
    "exitos = 0\n",
    "\n",
    "for i in range(n):\n",
    "    ocupado = [random.randint(1, 100)]\n",
    "\n",
    "    for pasajero in range(2, 101):\n",
    "        if pasajero not in ocupado:\n",
    "            ocupado.append(pasajero)\n",
    "        else:\n",
    "            disponible = [asiento for asiento in range(1, 101) if asiento not in ocupado] \n",
    "            ocupado.append(random.choice(disponible)) \n",
    "\n",
    "    if ocupado[-1] == 100:\n",
    "        exitos += 1\n",
    "\n",
    "probabilidad = exitos / n\n",
    "print(f\"Probabilidad de que el pasajero 100 se siente en su asiento: {probabilidad:.4f}\")"
   ]
  },
  {
   "cell_type": "markdown",
   "id": "e57dd208-fd1b-4ca0-8527-10ac2d2d85d1",
   "metadata": {},
   "source": [
    "### Punto 2:\n",
    "\n",
    "Estimar el valor de pi con las indicaciones del documento.\n"
   ]
  },
  {
   "cell_type": "markdown",
   "id": "2fa5ff99-13d9-4076-9d51-44cd7244553b",
   "metadata": {},
   "source": [
    "#### **Solución**"
   ]
  },
  {
   "cell_type": "code",
   "execution_count": 11,
   "id": "91688046-7896-48fe-a70c-a3d7dc8cf370",
   "metadata": {},
   "outputs": [
    {
     "name": "stdout",
     "output_type": "stream",
     "text": [
      "Valor estimado de π: 3.14268\n"
     ]
    }
   ],
   "source": [
    "import random\n",
    "\n",
    "n = 100000\n",
    "dentro = 0\n",
    "\n",
    "for i in range(n):\n",
    "    x = random.uniform(-0.5, 0.5)  \n",
    "    y = random.uniform(-0.5, 0.5)  \n",
    "    if x**2 + y**2 <= 0.25:\n",
    "        dentro += 1\n",
    "\n",
    "pi_estimado = 4 * (dentro / n)\n",
    "\n",
    "print(\"Valor estimado de π:\", pi_estimado)\n"
   ]
  }
 ],
 "metadata": {
  "kernelspec": {
   "display_name": "Python [conda env:base] *",
   "language": "python",
   "name": "conda-base-py"
  },
  "language_info": {
   "codemirror_mode": {
    "name": "ipython",
    "version": 3
   },
   "file_extension": ".py",
   "mimetype": "text/x-python",
   "name": "python",
   "nbconvert_exporter": "python",
   "pygments_lexer": "ipython3",
   "version": "3.12.7"
  }
 },
 "nbformat": 4,
 "nbformat_minor": 5
}
